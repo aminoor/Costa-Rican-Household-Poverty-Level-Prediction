{
  "cells": [
    {
      "metadata": {
        "_uuid": "8f2839f25d086af736a60e9eeb907d3b93b6e0e5",
        "_cell_guid": "b1076dfc-b9ad-4769-8c92-a6c4dae69d19",
        "trusted": true
      },
      "cell_type": "code",
      "source": "# This Python 3 environment comes with many helpful analytics libraries installed\n# It is defined by the kaggle/python docker image: https://github.com/kaggle/docker-python\n# For example, here's several helpful packages to load in \n\nimport numpy as np # linear algebra\nimport pandas as pd # data processing, CSV file I/O (e.g. pd.read_csv)\n\n# Input data files are available in the \"../input/\" directory.\n# For example, running this (by clicking run or pressing Shift+Enter) will list the files in the input directory\n\nimport os\nprint(os.listdir(\"../input\"))\n\n# Any results you write to the current directory are saved as output.",
      "execution_count": null,
      "outputs": []
    },
    {
      "metadata": {
        "_cell_guid": "79c7e3d0-c299-4dcb-8224-4455121ee9b0",
        "_uuid": "d629ff2d2480ee46fbb7e2d37f6b5fab8052498a",
        "trusted": true
      },
      "cell_type": "code",
      "source": "## Ignore warnings\nimport warnings\nwarnings.filterwarnings('ignore')\n\n# do this to make Pandas show all the columns of a DataFrame, otherwise it just shows a summary\npd.set_option('display.max_columns', None) \n\n# Modelling Algorithms\nfrom sklearn.linear_model import LinearRegression\nfrom sklearn.linear_model import Lasso\nfrom sklearn.linear_model import Ridge\nfrom sklearn.linear_model import LogisticRegression\nfrom sklearn.tree import DecisionTreeClassifier\nfrom sklearn.neighbors import KNeighborsClassifier\nfrom sklearn.naive_bayes import GaussianNB\nfrom sklearn.svm import LinearSVC\nfrom sklearn.svm import SVC\nfrom sklearn.ensemble import ExtraTreesClassifier\nfrom sklearn.ensemble import GradientBoostingClassifier\nfrom sklearn.ensemble import RandomForestClassifier\nfrom xgboost import XGBClassifier\nfrom sklearn.cluster import KMeans\n\n# Modelling Helpers\nfrom sklearn.cross_validation import StratifiedKFold\nfrom sklearn.feature_selection import RFECV\n\nfrom sklearn.metrics import r2_score\nfrom sklearn.metrics import classification_report\nfrom sklearn.metrics import confusion_matrix\nfrom sklearn.metrics import roc_curve\nfrom sklearn.metrics import roc_auc_score\nfrom sklearn.metrics import mean_squared_error\n\nfrom sklearn.model_selection import train_test_split\nfrom sklearn.model_selection import cross_val_score\nfrom sklearn.model_selection import GridSearchCV\nfrom sklearn.model_selection import RandomizedSearchCV\n\nfrom sklearn.preprocessing import Imputer\nfrom sklearn.preprocessing import scale\nfrom sklearn.preprocessing import StandardScaler\nfrom sklearn.preprocessing import Normalizer\nfrom sklearn.preprocessing import MinMaxScaler\nfrom sklearn.preprocessing import minmax_scale\nfrom sklearn.preprocessing import MaxAbsScaler\nfrom sklearn.preprocessing import RobustScaler\nfrom sklearn.preprocessing import OneHotEncoder\nfrom sklearn.preprocessing import CategoricalEncoder\nfrom sklearn.preprocessing.data import QuantileTransformer\n\nfrom sklearn.pipeline import Pipeline\n\n# Visualisation\nimport matplotlib as mpl\nimport matplotlib.pyplot as plt\nimport matplotlib.pylab as pylab\nimport seaborn as sns\n\n# Configure visualisations\n#%matplotlib inline\nmpl.style.use( 'ggplot' )\nsns.set_style( 'white' )\npylab.rcParams[ 'figure.figsize' ] = 8 , 6",
      "execution_count": null,
      "outputs": []
    },
    {
      "metadata": {
        "trusted": true,
        "_uuid": "cf5ef24b6a2a82356a8d5a5cc531e78de68967ec"
      },
      "cell_type": "code",
      "source": "#load data\ntrain = pd.read_csv(\"../input/train.csv\")\ntest = pd.read_csv(\"../input/test.csv\")",
      "execution_count": null,
      "outputs": []
    },
    {
      "metadata": {
        "trusted": true,
        "_uuid": "56d5a236f6acd5cfeef4482353dd9cd081321789"
      },
      "cell_type": "code",
      "source": "display(train.shape)\ndisplay(train.head())",
      "execution_count": null,
      "outputs": []
    },
    {
      "metadata": {
        "trusted": true,
        "_uuid": "358d4482f0e13544f9d398ccf7b58bdb46d4b37f"
      },
      "cell_type": "code",
      "source": "display(test.shape)\ndisplay(test.head())",
      "execution_count": null,
      "outputs": []
    },
    {
      "metadata": {
        "trusted": true,
        "_uuid": "33393bdbdb74a78584d0f8d019d41c0a0a50477b"
      },
      "cell_type": "code",
      "source": "train.describe()",
      "execution_count": null,
      "outputs": []
    },
    {
      "metadata": {
        "trusted": true,
        "_uuid": "14dc531b2b2d9830efdc4636b437c692264cc9ec"
      },
      "cell_type": "code",
      "source": "test.describe()",
      "execution_count": null,
      "outputs": []
    },
    {
      "metadata": {
        "trusted": true,
        "_uuid": "50ac09907b434085ddf6e96694152e0b2ec96e7f"
      },
      "cell_type": "code",
      "source": "print([x for x in train.columns if train[x].dtype=='O'])\nprint([x for x in test.columns if test[x].dtype=='O'])\n\nprint('\\n')\nprint([x for x in train.columns if train[x].dtype=='float'])\nprint([x for x in test.columns if test[x].dtype=='float'])\n\nprint('\\n')\nprint([x for x in train.columns if train[x].dtype=='int'])\nprint([x for x in test.columns if test[x].dtype=='int'])",
      "execution_count": null,
      "outputs": []
    },
    {
      "metadata": {
        "trusted": true,
        "_uuid": "c8009d742392a420f5218b0d74974d69046364b4"
      },
      "cell_type": "code",
      "source": "# Count the % null columns\ndef count_nulls(df):\n    null_counter = df.isnull().sum(axis=0)\n    null_counter = null_counter[null_counter > 0]\n    null_percent = df.isnull().sum(axis=0) / df.shape[0] * 100\n    null_percent = null_percent[null_percent > 0]\n    null_df = pd.concat([null_counter,null_percent],axis=1)\n    null_df.columns = ['count','percent']\n    display(null_df)\n    \n# Count the null columns\n#null_columns=train.columns[train.isnull().any()]\n#train[null_columns].isnull().sum()\n\ncount_nulls(train)\ncount_nulls(test)",
      "execution_count": null,
      "outputs": []
    },
    {
      "metadata": {
        "trusted": true,
        "_uuid": "00f8eb09f1834cc407f5cbf8dd1583b260bc1bcb"
      },
      "cell_type": "code",
      "source": "print('Non Null Count of \"v2a1\" = {}' .format(train.v2a1.notnull().sum()))\nprint('Null Count of \"v2a1\" = {}' .format(train.v2a1.isnull().sum()))\n\nprint('\\n')\nprint(train[(train.tipovivi2==1) |(train.tipovivi3==1)].shape)\nprint(train[(train.tipovivi2==1) |(train.tipovivi3==1)].v2a1.isnull().sum())\n\nprint('\\n')\nprint(train[(train.tipovivi1==1) |(train.tipovivi4==1) | (train.tipovivi5==1)].shape)\nprint(train[(train.tipovivi1==1) |(train.tipovivi4==1) | (train.tipovivi5==1)].v2a1.isnull().sum())\n\n# Conclusion: \n# Household staying in rented house or own house with paying installments are paying the rent.\n# Household staying in own house or precarious/assigned/borrowed house are not paying any rent.\n# All null values will be filled with zeros.",
      "execution_count": null,
      "outputs": []
    },
    {
      "metadata": {
        "trusted": true,
        "_uuid": "7014d2bb98a4bc7c406cf202e67c29b13d42a255"
      },
      "cell_type": "code",
      "source": "print('Non Null Count of \"v2a1\" = {}' .format(test.v2a1.notnull().sum()))\nprint('Null Count of \"v2a1\" = {}' .format(test.v2a1.isnull().sum()))\n\nprint('\\n')\nprint(test[(test.tipovivi2==1) |(test.tipovivi3==1)].shape)\nprint(test[(test.tipovivi2==1) |(test.tipovivi3==1)].v2a1.isnull().sum())\n\nprint('\\n')\nprint(test[(test.tipovivi1==1) |(test.tipovivi4==1) | (test.tipovivi5==1)].shape)\nprint(test[(test.tipovivi1==1) |(test.tipovivi4==1) | (test.tipovivi5==1)].v2a1.isnull().sum())\n\n# Conclusion: \n# Household staying in rented house or own house with paying installments are paying the rent.\n# Household staying in own house or precarious/assigned/borrowed house are not paying any rent.\n# All null values will be filled with zeros.",
      "execution_count": null,
      "outputs": []
    },
    {
      "metadata": {
        "trusted": true,
        "_uuid": "26c40f35c5cb44ea3b6ec8c4003d8fee5a0fe076"
      },
      "cell_type": "code",
      "source": "# impute missing values of 'v2a1'\ntrain.v2a1.fillna(0, inplace=True)\ntest.v2a1.fillna(0, inplace=True)\n\ncount_nulls(train)\ncount_nulls(test)",
      "execution_count": null,
      "outputs": []
    },
    {
      "metadata": {
        "trusted": true,
        "_uuid": "c7cb60d6af863bc829d10d7b0cd9be662cfd4cef"
      },
      "cell_type": "code",
      "source": "print('Non Null Count of \"v18q1\" = {}' .format(train.v18q1.notnull().sum()))\nprint('Null Count of \"v18q1\" = {}' .format(train.v18q1.isnull().sum()))\n\nprint('\\n')\nprint('Non Zero Count of \"v18q\" = {}' .format(train[(train['v18q']==1)].v18q.count()))\nprint('Zero Count of \"v18q\" = {}' .format(train[(train['v18q']==0)].v18q.count()))\n\n# Conclusion: \n# The variable \"v18q1\" is null if the household does not own any tablet.\n# All null values will be filled with zeros.",
      "execution_count": null,
      "outputs": []
    },
    {
      "metadata": {
        "trusted": true,
        "_uuid": "e0f0d49ecfdf40ba85f28e1a073a68fa6f26dd4c"
      },
      "cell_type": "code",
      "source": "print('Non Null Count of \"v18q1\" = {}' .format(test.v18q1.notnull().sum()))\nprint('Null Count of \"v18q1\" = {}' .format(test.v18q1.isnull().sum()))\n\nprint('\\n')\nprint('Non Zero Count of \"v18q\" = {}' .format(test[(test['v18q']==1)].v18q.count()))\nprint('Zero Count of \"v18q\" = {}' .format(test[(test['v18q']==0)].v18q.count()))\n\n# Conclusion: \n# The variable \"v18q1\" is null if the household does not own any tablet.\n# All null values will be filled with zeros.",
      "execution_count": null,
      "outputs": []
    },
    {
      "metadata": {
        "trusted": true,
        "_uuid": "0fb97479464e5b6e17660f06a6acc5cf54b6e401"
      },
      "cell_type": "code",
      "source": "# impute missing values of 'v18q1'\ntrain.v18q1.fillna(0, inplace=True)\ntest.v18q1.fillna(0, inplace=True)\n\ncount_nulls(train)\ncount_nulls(test)",
      "execution_count": null,
      "outputs": []
    },
    {
      "metadata": {
        "trusted": true,
        "_uuid": "5358f28afcbc99cad80288530f08447ea6538835"
      },
      "cell_type": "code",
      "source": "print(train['rez_esc'].unique())\nprint(test['rez_esc'].unique())",
      "execution_count": null,
      "outputs": []
    },
    {
      "metadata": {
        "trusted": true,
        "_uuid": "3f6333b356cc9f58b9d04d9ce97990e0561e6033"
      },
      "cell_type": "code",
      "source": "print(\"Training Set:\")\nprint('Non Null Count of \"rez_esc\" = {}' .format(train.rez_esc.notnull().sum()))\nprint('Null Count of \"rez_esc\" = {}' .format(train.rez_esc.isnull().sum()))\n\nprint('\\n')\nprint('Max Age = {}' .format(train[train['rez_esc'].notnull()][['age', 'escolari', 'rez_esc']].age.max()))\nprint('Min Age = {}' .format(train[train['rez_esc'].notnull()][['age', 'escolari', 'rez_esc']].age.min()))\n\nprint('\\n')\nprint(\"Testing Set:\")\nprint('Non Null Count of \"rez_esc\" = {}' .format(test.rez_esc.notnull().sum()))\nprint('Null Count of \"rez_esc\" = {}' .format(test.rez_esc.isnull().sum()))\n\nprint('\\n')\nprint('Max Age = {}' .format(test[test['rez_esc'].notnull()][['age', 'escolari', 'rez_esc']].age.max()))\nprint('Min Age = {}' .format(test[test['rez_esc'].notnull()][['age', 'escolari', 'rez_esc']].age.min()))\n\n# Observation:\n# The variable \"rez_esc\" is non null for age between 7 to 17 years",
      "execution_count": null,
      "outputs": []
    },
    {
      "metadata": {
        "trusted": true,
        "_uuid": "263791d398e887f712b27169a4cdd3fa8a04b21d"
      },
      "cell_type": "code",
      "source": "train[train['rez_esc'].notnull()][['age', 'escolari', 'rez_esc']]\n\n# Observation:\n# Looking at the data, ideal age to start schooling is 7 years & ideal age to finish schooling is 17 years\n# So someone 15 years (\"age\") old should complete 8 years (\"escolari\") of schooling (15-7)\n# Thus Years behind in school (\"rez_esc\") = \"age\" - 7 - \"escolari\"\n# The variable \"rez_esc\" is positive if someone is behind in school, otherwise zero\n# For non-schooling age (\"age\"<7 & \"age\">17), \"rez_esc\" is not calculated and thus it is null",
      "execution_count": null,
      "outputs": []
    },
    {
      "metadata": {
        "trusted": true,
        "_uuid": "e0e7693eb256e35c33ea0a8b1e4ca88d39d6c210"
      },
      "cell_type": "code",
      "source": "# Validating the observation for the variable \"rez_esc\"\ntrain['rez_esc_calculated'] = train.age - train.escolari - 7\ntrain.rez_esc_calculated[train['rez_esc_calculated']<0] = 0\ntrain.rez_esc_calculated[train['age']<7]= np.nan\ntrain.rez_esc_calculated[train['age']>17]= np.nan\ncount_nulls(train)\n\ntest['rez_esc_calculated'] = test.age - test.escolari - 7\ntest.rez_esc_calculated[test['rez_esc_calculated']<0] = 0\ntest.rez_esc_calculated[test['age']<7]= np.nan\ntest.rez_esc_calculated[test['age']>17]= np.nan\ncount_nulls(test)\n\n# There is an extra null value in \"res_esc\" in both training & testing set",
      "execution_count": null,
      "outputs": []
    },
    {
      "metadata": {
        "trusted": true,
        "_uuid": "d5a319aa47e35b3a516ff0e1b0284eb7621b1f0e"
      },
      "cell_type": "code",
      "source": "# Validating the observation for the variable \"rez_esc\"\nprint(\"Training Set:\")\ntrain['rez_esc_bol'] = (train['rez_esc'] == train['rez_esc_calculated'])\ndisplay(train[(train['rez_esc_bol']==False) & (train['rez_esc_calculated'].notnull())][['age', 'escolari', 'rez_esc', 'rez_esc_calculated', 'instlevel1', 'instlevel2', 'instlevel3', 'instlevel4', 'instlevel5', 'instlevel6', 'instlevel7', 'instlevel8', 'instlevel9']])\n\nprint(\"Testing Set:\")\ntest['rez_esc_bol'] = (test['rez_esc'] == test['rez_esc_calculated'])\ndisplay(test[(test['rez_esc_bol']==False) & (test['rez_esc_calculated'].notnull())][['age', 'escolari', 'rez_esc', 'rez_esc_calculated', 'instlevel1', 'instlevel2', 'instlevel3', 'instlevel4', 'instlevel5', 'instlevel6', 'instlevel7', 'instlevel8', 'instlevel9']])\n\n\n# The calculated value of \"rez_esc\" do not match for the following rows.\n# Looking the data, it is observed the calculated values are correct.\n# All null values will be filled with zeros.",
      "execution_count": null,
      "outputs": []
    },
    {
      "metadata": {
        "trusted": true,
        "_uuid": "fa012635e8591dad95d978e75867eb228152b7c5"
      },
      "cell_type": "code",
      "source": "# impute missing values of \"rez_esc\"\ntrain = train.drop(['rez_esc_calculated','rez_esc_bol'],1)\ntest = test.drop(['rez_esc_calculated','rez_esc_bol'],1)\n\ntrain['rez_esc'] = train.age - train.escolari - 7\ntrain.rez_esc[train['rez_esc']<0] = 0\ntrain.rez_esc[train['age']<7]= 0\ntrain.rez_esc[train['age']>17]= 0\n\ntest['rez_esc'] = test.age - test.escolari - 7\ntest.rez_esc[test['rez_esc']<0] = 0\ntest.rez_esc[test['age']<7]= 0\ntest.rez_esc[test['age']>17]= 0\n\ncount_nulls(train)\ncount_nulls(test)",
      "execution_count": null,
      "outputs": []
    },
    {
      "metadata": {
        "trusted": true,
        "_uuid": "d69705704b26fd0f2ab6076144a83d02c0d46ed2"
      },
      "cell_type": "code",
      "source": "print(\"Training Set:\")\ndisplay(train[train[\"meaneduc\"].isnull()][['idhogar','age','escolari','meaneduc','hogar_adul','hogar_nin','hogar_mayor','hogar_total','parentesco1']])\n\nprint(\"Testing Set:\")\ndisplay(test[test[\"meaneduc\"].isnull()][['idhogar','age','escolari','meaneduc','hogar_adul','hogar_nin','hogar_mayor','hogar_total','parentesco1']])",
      "execution_count": null,
      "outputs": []
    },
    {
      "metadata": {
        "trusted": true,
        "_uuid": "1f5013bd12152a5229272174c7a19ce3bb771d02"
      },
      "cell_type": "code",
      "source": "print(\"Training Set:\")\ndisplay(train[train[\"hogar_adul\"]==0][['idhogar','age','escolari','meaneduc','hogar_adul','hogar_nin','hogar_mayor','hogar_total','parentesco1']])\n\nprint(\"Testing Set:\")\ndisplay(test[test[\"hogar_adul\"]==0][['idhogar','age','escolari','meaneduc','hogar_adul','hogar_nin','hogar_mayor','hogar_total','parentesco1']])\n\n# Observation:\n# The variable \"meaneduc\" is null for households with no adults (\"hogar_adul\"=0)\n# All null values will be filled with zeros.",
      "execution_count": null,
      "outputs": []
    },
    {
      "metadata": {
        "trusted": true,
        "_uuid": "51e6404a59fbc8dfacfc7b6d767876e1e5b74163"
      },
      "cell_type": "code",
      "source": "# impute missing values of \"meaneduc\" & \"SQBmeaned\"\ntrain.meaneduc.fillna(0, inplace=True)\ntrain.SQBmeaned.fillna(0, inplace=True)\n\ntest.meaneduc.fillna(0, inplace=True)\ntest.SQBmeaned.fillna(0, inplace=True)\n\ncount_nulls(train)\ncount_nulls(test)",
      "execution_count": null,
      "outputs": []
    },
    {
      "metadata": {
        "trusted": true,
        "_uuid": "a4ba38b84f2d28070c8d41d2e2d93aedcb4e8a99"
      },
      "cell_type": "code",
      "source": "# The variable \"dependency\" has lot of \"yes\" and \"no\" values\ntrain['dependency_calculated'] = (train.hogar_nin + train.hogar_mayor)/(train.hogar_adul - train.hogar_mayor)\ntest['dependency_calculated'] = (test.hogar_nin + test.hogar_mayor)/(test.hogar_adul - test.hogar_mayor)\n\nprint(\"Unique values in Training Set:\")\nprint(train['dependency'].unique())\n\nprint(\"\\nUnique values in Testing Set:\")\nprint(test['dependency'].unique())\n\nprint(\"\\nTraining Set:\")\nprint(train[(train['dependency']=='yes') | (train['dependency']=='no')][['dependency']].count())\nprint(train[(train['dependency_calculated']==1) | (train['dependency_calculated']==0)][['dependency_calculated']].count())\n\nprint(\"\\nTesting Set:\")\nprint(test[(test['dependency']=='yes') | (test['dependency']=='no')][['dependency']].count())\nprint(test[(test['dependency_calculated']==1) | (test['dependency_calculated']==0)][['dependency_calculated']].count())\n\n# Obsevation:\n# All \"yes\" should be '1' and \"no\" should be '0'",
      "execution_count": null,
      "outputs": []
    },
    {
      "metadata": {
        "trusted": true,
        "_uuid": "042d590d378bc2a40a28d2f78f4a43ca1f7d74f2"
      },
      "cell_type": "code",
      "source": "# The variables \"edjefe\" and \"edjefa\" have lot of \"yes\" and \"no\" values\ndisplay(train[['idhogar','edjefe','edjefa','escolari','male','parentesco1']][:20])\ndisplay(test[['idhogar','edjefe','edjefa','escolari','male','parentesco1']][:20])\n\n# Obsevation:\n# \"edjefe\" for a household = \"escolari\" x \"male\" x \"parentesco1\"\n# \"edjefa\" for a household = \"escolari\" x \"female\" x \"parentesco1\"\n# All \"yes\" should be '1' and \"no\" should be '0'",
      "execution_count": null,
      "outputs": []
    },
    {
      "metadata": {
        "trusted": true,
        "_uuid": "cc2f8f87a293014df517d1a16d8f61540b45292e"
      },
      "cell_type": "code",
      "source": "train.dependency.replace('no','0',inplace=True)\ntrain.dependency.replace('yes','1',inplace=True)\ntrain.dependency = train.dependency.astype('float')\n\ntest.dependency.replace('no','0',inplace=True)\ntest.dependency.replace('yes','1',inplace=True)\ntest.dependency = test.dependency.astype('float')\n\ntrain.edjefe.replace('no','0',inplace=True)\ntrain.edjefe.replace('yes','1',inplace=True)\ntrain.edjefe = train.edjefe.astype('float')\n\ntest.edjefe.replace('no','0',inplace=True)\ntest.edjefe.replace('yes','1',inplace=True)\ntest.edjefe = test.edjefe.astype('float')\n\ntrain.edjefa.replace('no','0',inplace=True)\ntrain.edjefa.replace('yes','1',inplace=True)\ntrain.edjefa = train.edjefa.astype('float')\n\ntest.edjefa.replace('no','0',inplace=True)\ntest.edjefa.replace('yes','1',inplace=True)\ntest.edjefa = test.edjefa.astype('float')\n\ntrain = train.drop(['dependency_calculated'],1)\ntest = test.drop(['dependency_calculated'],1)\n\ndisplay(train[['idhogar','edjefe','escolari','male','parentesco1']][:20])\ndisplay(test[['idhogar','edjefe','escolari','male','parentesco1']][:20])",
      "execution_count": null,
      "outputs": []
    },
    {
      "metadata": {
        "_uuid": "800cab00a1e91b16e4e492b2ad0884d532e1649e"
      },
      "cell_type": "raw",
      "source": ""
    },
    {
      "metadata": {
        "trusted": true,
        "_uuid": "6223575ae0b699f23fed84b22b0f4183f938dd82"
      },
      "cell_type": "code",
      "source": "household_id = pd.unique(train.idhogar)\ndisplay(household_id)\ndisplay(len(household_id))",
      "execution_count": null,
      "outputs": []
    },
    {
      "metadata": {
        "trusted": true,
        "_uuid": "a119a7b47f221cb75fae0626ff19981065af02cb"
      },
      "cell_type": "code",
      "source": "# Checking if all members of same household have same Target\nhh = []\nfor id in pd.unique(train.idhogar):\n    train_hh = train[train['idhogar']==id]\n    train_pp = train_hh[train_hh['parentesco1']==1]\n    if not train_pp.empty:\n        for j in range(0,len(train_hh)):\n            if train_hh.Target.iloc[j] != train_pp.Target.iloc[0]:\n                hh.append(id)\n\nhh = pd.unique(hh)       \ndisplay(train[train['idhogar'].isin(hh)][['idhogar', 'Target', 'parentesco1']])\nprint(len(hh))",
      "execution_count": null,
      "outputs": []
    },
    {
      "metadata": {
        "trusted": true,
        "_uuid": "f3d44a18108dcb3e0b05d1b81037023ec8130969"
      },
      "cell_type": "code",
      "source": "# Correcting the Target of all members of same household to have same Target\nfor i in hh:\n    train.loc[train['idhogar']==i, 'Target'] = train[(train['idhogar']==i) & (train['parentesco1']==1)].Target.iloc[0]  \n\ndisplay(train[train['idhogar'].isin(hh)][['idhogar', 'Target', 'parentesco1']])\n\nhh = []\nfor i in range(0,len(household_id)):\n    id = household_id[i]\n    train_hh = train[train['idhogar']==id]\n    train_pp = train_hh[train_hh['parentesco1']==1]\n    if not train_pp.empty:\n        for j in range(0,len(train_hh)):\n            if train_hh.Target.iloc[j] != train_pp.Target.iloc[0]:\n                hh.append(id)\n                \nhh = pd.unique(hh)       \ndisplay(train[train['idhogar'].isin(hh)][['idhogar', 'Target', 'parentesco1']])\nprint(len(hh))",
      "execution_count": null,
      "outputs": []
    },
    {
      "metadata": {
        "trusted": true,
        "_uuid": "ed3f5cee72aeffde2941efe42994d34ccc8e35ae"
      },
      "cell_type": "code",
      "source": "train_id = train.Id\ntest_id = test.Id\n\ntrain = train.drop(['Id'],1)\ntest = test.drop(['Id'],1)\n\ny = train.Target\nX = train.drop(['Target'],1)\n\nfull = train.append(test, ignore_index = True)\n\ntarget = {1:'Extereme Poverty', 2:'Moderate Poverty', 3: 'Vulnerable Households', 4:'Non Vulnerable Households'}",
      "execution_count": null,
      "outputs": []
    },
    {
      "metadata": {
        "trusted": true,
        "_uuid": "ab264414cac529e185bb8ea2d0654cf6708ba224"
      },
      "cell_type": "code",
      "source": "plt.figure(figsize=(8,4)) \nsns.countplot(data=train, x=train['Target'], order=train['Target'].value_counts().index)",
      "execution_count": null,
      "outputs": []
    },
    {
      "metadata": {
        "trusted": true,
        "_uuid": "d9191430f1f176da09987b0a911c93b736095ebf"
      },
      "cell_type": "code",
      "source": "plt.figure(figsize=(20,10)) \nplt.subplot(2, 3, 1)\nsns.barplot(x='Target' , y='computer', data=train)\nplt.ylabel(\"Computer\")\nplt.subplot(2, 3, 2)\nsns.barplot(x='Target' , y='v18q', data=train)\nplt.ylabel(\"Tablet\")\nplt.subplot(2, 3, 3)\nsns.barplot(x='Target' , y='television', data=train)\nplt.ylabel(\"Television\")\nplt.subplot(2, 3, 4)\nsns.barplot(x='Target' , y='refrig', data=train)\nplt.ylabel(\"Refrigerator\")\nplt.subplot(2, 3, 5)\nsns.barplot(x='Target' , y='mobilephone', data=train)\nplt.ylabel(\"Mobile Phone\")",
      "execution_count": null,
      "outputs": []
    },
    {
      "metadata": {
        "trusted": true,
        "_uuid": "ceb88d259e39e031123b18b7cd7cf59a502d6607"
      },
      "cell_type": "code",
      "source": "plt.figure(figsize=(20,10)) \nplt.subplot(2, 3, 1)\nsns.barplot(x='Target' , y='lugar1', data=train)\nplt.ylabel(\"Central\")\nplt.subplot(2, 3, 2)\nsns.barplot(x='Target' , y='lugar2', data=train)\nplt.ylabel(\"Chorotega\")\nplt.subplot(2, 3, 3)\nsns.barplot(x='Target' , y='lugar3', data=train)\nplt.ylabel(\"Pacafafico Central\")\nplt.subplot(2, 3, 4)\nsns.barplot(x='Target' , y='lugar4', data=train)\nplt.ylabel(\"Brunca\")\nplt.subplot(2, 3, 5)\nsns.barplot(x='Target' , y='lugar5', data=train)\nplt.ylabel(\"Hueter Atlafantica\")\nplt.subplot(2, 3, 6)\nsns.barplot(x='Target' , y='lugar6', data=train)\nplt.ylabel(\"Hueter Norte\")",
      "execution_count": null,
      "outputs": []
    },
    {
      "metadata": {
        "trusted": true,
        "_uuid": "2ef55b36296c487ecf4f40e3f45c295715b7ea45"
      },
      "cell_type": "code",
      "source": "plt.figure(figsize=(20,5)) \nplt.subplot(1, 2, 1)\nsns.barplot(x='Target' , y='area1', data=train)\nplt.ylabel(\"Urban\")\nplt.subplot(1, 2, 2)\nsns.barplot(x='Target' , y='area2', data=train)\nplt.ylabel(\"Rural\")\n\ntrain['area1'].corr(train['area2'])",
      "execution_count": null,
      "outputs": []
    },
    {
      "metadata": {
        "trusted": true,
        "_uuid": "0872fc9c6de51f6f3775b435f444452e20f07602"
      },
      "cell_type": "code",
      "source": "plt.figure(figsize=(20,5)) \nplt.subplot(1, 2, 1)\nsns.barplot(x='Target' , y='male', data=train)\nplt.ylabel(\"Male\")\nplt.subplot(1, 2, 2)\nsns.barplot(x='Target' , y='female', data=train)\nplt.ylabel(\"Female\")\n\ntrain['male'].corr(train['female'])",
      "execution_count": null,
      "outputs": []
    },
    {
      "metadata": {
        "trusted": true,
        "_uuid": "364718875d8d03d3d8043877851142a7e22f3391"
      },
      "cell_type": "code",
      "source": "print(train['tamhog'].corr(train['tamviv']))\nprint(train['tamhog'].corr(train['hhsize']))",
      "execution_count": null,
      "outputs": []
    },
    {
      "metadata": {
        "trusted": true,
        "_uuid": "b91ad0e54080c4c45560433ac61d2714408f006e"
      },
      "cell_type": "code",
      "source": "print(train.columns.get_loc(\"estadocivil1\"))\n\nrelation = train.iloc[:,75:94]\nrelation['Target'] = train.Target\nrelation.head()\n\nplt.figure(figsize=(20,15))\nsize= len(relation.columns)-1\nfor i in range(0, size):\n    plt.subplot(7, 3, i+1)\n    sns.barplot(x='Target', y=relation.columns[i], data=relation)",
      "execution_count": null,
      "outputs": []
    },
    {
      "metadata": {
        "trusted": true,
        "_uuid": "ad1e9963caf16ed02efce2efc6b477a5a6281de2"
      },
      "cell_type": "code",
      "source": "print(train.columns.get_loc(\"instlevel1\"))\n\neducation = train.iloc[:,103:112]\neducation['Target'] = train.Target\neducation.head()\n\nplt.figure(figsize=(20,12))\nsize= len(education.columns)-1\nfor i in range(0, size):\n    plt.subplot(3, 3, i+1)\n    sns.barplot(x='Target' , y=education.columns[i], data=education)",
      "execution_count": null,
      "outputs": []
    },
    {
      "metadata": {
        "trusted": true,
        "_uuid": "ddb8581ffb85cd795dff5ba05e1e958c64246d03"
      },
      "cell_type": "code",
      "source": "plt.figure(figsize=(20,10)) \nplt.subplot(2, 3, 1)\nsns.barplot(x='Target' , y='tipovivi1', data=train)\nplt.ylabel(\"Own & Fully Paid\")\nplt.subplot(2, 3, 2)\nsns.barplot(x='Target' , y='tipovivi2', data=train)\nplt.ylabel(\"Own & Paying Installment\")\nplt.subplot(2, 3, 3)\nsns.barplot(x='Target' , y='tipovivi3', data=train)\nplt.ylabel(\"Rented\")\nplt.subplot(2, 3, 4)\nsns.barplot(x='Target' , y='tipovivi4', data=train)\nplt.ylabel(\"Precarious\")\nplt.subplot(2, 3, 5)\nsns.barplot(x='Target' , y='tipovivi5', data=train)\nplt.ylabel(\"Assigned/Borrowed\")",
      "execution_count": null,
      "outputs": []
    },
    {
      "metadata": {
        "trusted": true,
        "_uuid": "3bb94e6acef8929613ed8b5ae95b3985d3fa1d1f"
      },
      "cell_type": "code",
      "source": "print(train.columns.get_loc(\"paredblolad\"))\n\noutside_wall = train.iloc[:,22:30]\noutside_wall['Target'] = train.Target\ndisplay(outside_wall.head())\n\nplt.figure(figsize=(20,10))\nsize= len(outside_wall.columns)-1\nfor i in range(0, size): \n    plt.subplot(2, 4, i+1)\n    sns.barplot(x='Target' , y=outside_wall.columns[i], data=outside_wall)",
      "execution_count": null,
      "outputs": []
    },
    {
      "metadata": {
        "trusted": true,
        "_uuid": "454b0774278f270836ebb262cd7466341598ff81"
      },
      "cell_type": "code",
      "source": "print(train.columns.get_loc(\"pisomoscer\"))\n\nfloor = train.iloc[:,30:36]\nfloor['Target'] = train.Target\ndisplay(floor.head())\n\nplt.figure(figsize=(20,10))\nsize = len(floor.columns)-1\nfor i in range(0, size):\n    plt.subplot(2, 3, i+1)\n    sns.barplot(x='Target' , y=floor.columns[i], data=floor)",
      "execution_count": null,
      "outputs": []
    },
    {
      "metadata": {
        "trusted": true,
        "_uuid": "44a21714ffd79d35f09a0687f56e1820daa04a87"
      },
      "cell_type": "code",
      "source": "print(train.columns.get_loc(\"techozinc\"))\n\nroof = train.iloc[:,36:40]\nroof['Target'] = train.Target\ndisplay(floor.head())\n\nplt.figure(figsize=(20,5))\nsize = len(roof.columns)-1\nfor i in range(0, size):\n    plt.subplot(1, 4, i+1)\n    sns.barplot(x='Target' , y=roof.columns[i], data=roof)",
      "execution_count": null,
      "outputs": []
    },
    {
      "metadata": {
        "trusted": true,
        "_uuid": "04795f3e3dd5cdd87bf64dbb26b795ef63fd3452"
      },
      "cell_type": "code",
      "source": "plt.figure(figsize=(20,5)) \nplt.subplot(1, 2, 1)\nsns.barplot(x='Target' , y='abastaguadentro', data=train)\nplt.ylabel(\"Water Provision Inside Dwelling\")\nplt.subplot(1, 2, 2)\nsns.barplot(x='Target' , y='abastaguafuera', data=train)\nplt.ylabel(\"Water Provision Outside Dwelling\")",
      "execution_count": null,
      "outputs": []
    },
    {
      "metadata": {
        "trusted": true,
        "_uuid": "964489ee7f818c26f6361231240d915530fd9fe4"
      },
      "cell_type": "code",
      "source": "plt.figure(figsize=(20,5)) \nplt.subplot(1, 3, 1)\nsns.barplot(x='Target' , y='public', data=train)\nplt.ylabel(\"Electricity from CNFL, ICE, ESPH/JASEC\")\nplt.subplot(1, 3, 2)\nsns.barplot(x='Target' , y='planpri', data=train)\nplt.ylabel(\"Electricity from Private Plant\")\nplt.subplot(1, 3, 3)\nsns.barplot(x='Target' , y='coopele', data=train)\nplt.ylabel(\"Electricity from Cooperative\")",
      "execution_count": null,
      "outputs": []
    },
    {
      "metadata": {
        "trusted": true,
        "_uuid": "b2f2763ae620fc8d429a648a8b950d2f37f8e10d"
      },
      "cell_type": "code",
      "source": "plt.figure(figsize=(20,5)) \nplt.subplot(1, 4, 1)\nsns.barplot(x='Target' , y='sanitario2', data=train)\nplt.ylabel(\"Toilet Connected to Sewer\")\nplt.subplot(1, 4, 2)\nsns.barplot(x='Target' , y='sanitario3', data=train)\nplt.ylabel(\"Toilet Connected to Septic Tank\")\nplt.subplot(1, 4, 3)\nsns.barplot(x='Target' , y='sanitario5', data=train)\nplt.ylabel(\"Toilet Connected to Black Hole\")\nplt.subplot(1, 4, 4)\nsns.barplot(x='Target' , y='sanitario6', data=train)\nplt.ylabel(\"Toilet Connected to Other System\")",
      "execution_count": null,
      "outputs": []
    },
    {
      "metadata": {
        "trusted": true,
        "_uuid": "f3162edaf2b6e7a23fa6439e90103d6a76adca81"
      },
      "cell_type": "code",
      "source": "plt.figure(figsize=(20,5)) \nplt.subplot(1, 3, 1)\nsns.barplot(x='Target' , y='energcocinar2', data=train)\nplt.ylabel(\"Cooking Energy - Electricity\")\nplt.subplot(1, 3, 2)\nsns.barplot(x='Target' , y='energcocinar3', data=train)\nplt.ylabel(\"Cooking Energy - Gas\")\nplt.subplot(1, 3, 3)\nsns.barplot(x='Target' , y='energcocinar4', data=train)\nplt.ylabel(\"Cooking Energy - Wood Charcoal\")",
      "execution_count": null,
      "outputs": []
    },
    {
      "metadata": {
        "trusted": true,
        "_uuid": "00d6d8caa209528e6c810baa99b1b5ff04c55f2b"
      },
      "cell_type": "code",
      "source": "plt.figure(figsize=(20,10)) \nplt.subplot(2, 3, 1)\nsns.barplot(x='Target' , y='elimbasu1', data=train)\nplt.ylabel(\"Rubbish Disposal by Tanker Truck\")\nplt.subplot(2, 3, 2)\nsns.barplot(x='Target' , y='elimbasu2', data=train)\nplt.ylabel(\"Rubbish Disposal by Buried\")\nplt.subplot(2, 3, 3)\nsns.barplot(x='Target' , y='elimbasu3', data=train)\nplt.ylabel(\"Rubbish Disposal by Burning\")\nplt.subplot(2, 3, 4)\nsns.barplot(x='Target' , y='elimbasu4', data=train)\nplt.ylabel(\"Rubbish Disposal by Throwing in Space\")\nplt.subplot(2, 3, 5)\nsns.barplot(x='Target' , y='elimbasu5', data=train)\nplt.ylabel(\"Rubbish Disposal by Throwing in River/Sea\")\nplt.subplot(2, 3, 6)\nsns.barplot(x='Target' , y='elimbasu6', data=train)\nplt.ylabel(\"Rubbish Disposal by Other\")",
      "execution_count": null,
      "outputs": []
    },
    {
      "metadata": {
        "trusted": true,
        "_uuid": "b270b5a24203bca3568211c9d71339eb28bff115"
      },
      "cell_type": "code",
      "source": "plt.figure(figsize=(20,10)) \nplt.subplot(3, 3, 1)\nsns.barplot(x='Target' , y='epared1', data=train)\nplt.ylabel(\"Wall Quality - Bad\")\nplt.subplot(3, 3, 2)\nsns.barplot(x='Target' , y='epared2', data=train)\nplt.ylabel(\"Wall Quality - Regular\")\nplt.subplot(3, 3, 3)\nsns.barplot(x='Target' , y='epared3', data=train)\nplt.ylabel(\"Wall Quality - Good\")\nplt.subplot(3, 3, 4)\nsns.barplot(x='Target' , y='etecho1', data=train)\nplt.ylabel(\"Roof Quality - Bad\")\nplt.subplot(3, 3, 5)\nsns.barplot(x='Target' , y='etecho2', data=train)\nplt.ylabel(\"Roof Quality - Regular\")\nplt.subplot(3, 3, 6)\nsns.barplot(x='Target' , y='etecho3', data=train)\nplt.ylabel(\"Roof Quality - Good\")\nplt.subplot(3, 3, 7)\nsns.barplot(x='Target' , y='eviv1', data=train)\nplt.ylabel(\"Floor Quality - Bad\")\nplt.subplot(3, 3, 8)\nsns.barplot(x='Target' , y='eviv2', data=train)\nplt.ylabel(\"Floor Quality - Regular\")\nplt.subplot(3, 3, 9)\nsns.barplot(x='Target' , y='eviv3', data=train)\nplt.ylabel(\"Floor Quality - Good\")",
      "execution_count": null,
      "outputs": []
    },
    {
      "metadata": {
        "trusted": true,
        "_uuid": "d350dead9d93bf75652221d5de6807380f7937f6"
      },
      "cell_type": "code",
      "source": "#corr = train.corr().abs()\n#corr\n\n#np.fill_diagonal(corr.values, 0)\n#np.fill_diagonal(df.values, 0)\n\n#corr_unstacked= corr.unstack()\n#corr_unstacked\n#corr_sorted = corr_unstacked.sort_values(ascending=False, kind='quicksort')\n#to_drop = corr_sorted[corr_sorted>=0.95].to_frame(name='corr')\n#to_drop",
      "execution_count": null,
      "outputs": []
    },
    {
      "metadata": {
        "trusted": true,
        "_uuid": "ae6a8d98a1e4e20a5a563244445df3f1cb99f41e"
      },
      "cell_type": "code",
      "source": "display(train.shape)\ndisplay(test.shape)\ndisplay(X.shape)\ndisplay(y.shape)\ndisplay(full.shape)\n# Create correlation matrix\ncorr_matrix = X.corr().abs()\n\n# Select upper triangle of correlation matrix\nupper = corr_matrix.where(np.triu(np.ones(corr_matrix.shape), k=1).astype(np.bool))\n\n# Find index of feature columns with correlation greater than 0.95\nto_drop = [column for column in upper.columns if any(upper[column] >= 0.95)]\ndisplay(to_drop)\n\nX.drop(to_drop, axis=1, inplace=True)\n\npred_X = test.drop(to_drop, axis=1)\n\nX = X.drop(['idhogar'],1)\npred_X = pred_X.drop(['idhogar'],1)\n\ndisplay(X.shape)\n\ndisplay(pred_X.shape)",
      "execution_count": null,
      "outputs": []
    },
    {
      "metadata": {
        "trusted": true,
        "_uuid": "a85630de565b95f201c6cb8d632469b9ef864d4f"
      },
      "cell_type": "code",
      "source": "logreg = LogisticRegression()\n\nc_space = np.logspace(-5, 8, 15)\nparam_grid = {'C': c_space, 'penalty': ['l1', 'l2']}\n\nlogreg_cv = GridSearchCV(logreg, param_grid, cv=5)\nlogreg_cv.fit(X, y)\n\nprint(\"Tuned Logistic Regression Parameters: {}\".format(logreg_cv.best_params_)) \nprint(\"Best score is {}\".format(logreg_cv.best_score_))\n\npred_Y = logreg_cv.predict(pred_X)\npred = pd.DataFrame({'Id': test_id, 'Target': pred_Y})\nprint(pred.shape)\nprint(pred.head())\npred.to_csv('costa_rican_logreg.csv', index = False)",
      "execution_count": null,
      "outputs": []
    },
    {
      "metadata": {
        "trusted": true,
        "_uuid": "3bdad22a9df849b019a99861c834f1e9f1869e3b"
      },
      "cell_type": "code",
      "source": "svc = SVC()\n\n#param_grid = {'kernel': ['rbf', 'poly', 'sigmoid'],\n#              'C': [.0001, .001, .01, .1, 1, 10, 100, 1000, 10000],\n#              'gamma': [.00001, .0001, .001, .01, .1, 1, 10]}\n\nparam_grid = {'C': [10, 100, 1000, 10000],\n              'gamma': [.00001, .0001, .001]}\n\nsvc_cv = GridSearchCV(svc, param_grid, cv=10)\nsvc_cv.fit(X, y)\n\nprint(\"Tuned SVM Parameters: {}\".format(svc_cv.best_params_)) \nprint(\"Best score is {}\".format(svc_cv.best_score_))\n\npred_Y = svc_cv.predict(pred_X)\npred = pd.DataFrame({'Id': test_id, 'Target': pred_Y})\nprint(pred.shape)\nprint(pred.head())\npred.to_csv('costa_rican_svc.csv', index = False)",
      "execution_count": null,
      "outputs": []
    },
    {
      "metadata": {
        "trusted": true,
        "_uuid": "c517d4253acd60e73881112b186f0e166826d572"
      },
      "cell_type": "code",
      "source": "rfclass = RandomForestClassifier()\n\nparam_grid = {\"n_estimators\": np.arange(5, 100, 5),\n              \"max_depth\": np.arange(1, 50, 5),\n              \"min_samples_split\": np.arange(1,50,1),\n              \"min_samples_leaf\": np.arange(1,50,1),\n              \"max_leaf_nodes\": np.arange(2,50,2)}\n\nrfclass_cv = RandomizedSearchCV(rfclass, param_grid, cv=5)\nrfclass_cv.fit(X, y)\n\nprint(\"Tuned Random Forest Parameters: {}\".format(rfclass_cv.best_params_)) \nprint(\"Best score is {}\".format(rfclass_cv.best_score_))\n\npred_Y = rfclass_cv.predict(pred_X)\npred = pd.DataFrame({'Id': test_id, 'Target': pred_Y})\nprint(pred.shape)\nprint(pred.head())\npred.to_csv('costa_rican_rfclass.csv', index = False)",
      "execution_count": null,
      "outputs": []
    },
    {
      "metadata": {
        "trusted": true,
        "_uuid": "031a0eb51df98907ebae139d75b71372e654d0d6"
      },
      "cell_type": "code",
      "source": "knn = KNeighborsClassifier()\n\nparam_grid = {'n_neighbors': np.arange(5, 100, 5),\n              'weights': ['uniform', 'distance'],\n              'leaf_size': np.arange(5, 100, 5)}\n\nknn_cv = GridSearchCV(knn, param_grid, cv=5)\nknn_cv.fit(X, y)\n\nprint(\"Tuned KNN Parameters: {}\".format(knn_cv.best_params_)) \nprint(\"Best score is {}\".format(knn_cv.best_score_))\n\npred_Y = knn_cv.predict(pred_X)\npred = pd.DataFrame({'Id': test_id, 'Target': pred_Y})\nprint(pred.shape)\nprint(pred.head())\npred.to_csv('costa_rican_knn.csv', index = False)",
      "execution_count": null,
      "outputs": []
    },
    {
      "metadata": {
        "trusted": true,
        "_uuid": "2c1854eba5a7a9d5b009f6bc9835f6b006d60b1f"
      },
      "cell_type": "code",
      "source": "#household_id = pd.unique(train.idhogar)\n#household_id\n\n#cc = train[['idhogar','parentesco1']]\n#dd = test[['idhogar','parentesco1']]\n\n#hh_cc = pd.unique(cc.idhogar)\n#hh_dd = pd.unique(dd.idhogar)\n\n#ee = cc.groupby('idhogar')\n#ff = cc.groupby('idhogar')['parentesco1'].sum()\n#gg = ff[ff==0]\n\n#hh = pd.DataFrame(columns=train.columns)\n#for i in range(0,len(train)):\n    #for j in range(0, len(gg)):\n        #if train.idhogar[i]==gg.index[j]:\n            #hh = hh.append(train.iloc[i,:])\n            \n#hh\n#gg",
      "execution_count": null,
      "outputs": []
    }
  ],
  "metadata": {
    "kernelspec": {
      "display_name": "Python 3",
      "language": "python",
      "name": "python3"
    },
    "language_info": {
      "name": "python",
      "version": "3.6.6",
      "mimetype": "text/x-python",
      "codemirror_mode": {
        "name": "ipython",
        "version": 3
      },
      "pygments_lexer": "ipython3",
      "nbconvert_exporter": "python",
      "file_extension": ".py"
    }
  },
  "nbformat": 4,
  "nbformat_minor": 1
}